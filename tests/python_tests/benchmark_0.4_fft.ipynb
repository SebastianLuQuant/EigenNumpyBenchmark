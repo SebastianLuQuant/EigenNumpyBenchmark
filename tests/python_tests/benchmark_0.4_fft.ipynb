{
 "cells": [
  {
   "cell_type": "code",
   "execution_count": 5,
   "metadata": {},
   "outputs": [
    {
     "name": "stdout",
     "output_type": "stream",
     "text": [
      "FFT Benchmark:\n",
      "Size\tNumPy (sec)\tMyPyEigen (sec)\n",
      "10\t0.000004652\t0.000001740\n",
      "50\t0.000004967\t0.000002290\n",
      "100\t0.000005365\t0.000002746\n",
      "500\t0.000008058\t0.000006335\n",
      "1000\t0.000013530\t0.000011260\n",
      "2000\t0.000020867\t0.000020802\n",
      "5000\t0.000121157\t0.000061976\n",
      "10000\t0.000189841\t0.000113537\n",
      "20000\t0.000224010\t0.000204683\n",
      "50000\t0.000598528\t0.000564668\n",
      "100000\t0.001451865\t0.001233335\n",
      "200000\t0.003095395\t0.002721594\n",
      "500000\t0.007363444\t0.007539679\n"
     ]
    }
   ],
   "source": [
    "import MyPyEigen as pe\n",
    "import numpy as np\n",
    "import timeit\n",
    "\n",
    "def benchmark_function(func, args, number=100, preheat=10):\n",
    "    \"\"\"\n",
    "    Benchmark 'func' with arguments 'args'. Preheat the cache by calling the function\n",
    "    'preheat' times. Then, call 'func' 'number' times and return the average execution time in seconds.\n",
    "    \"\"\"\n",
    "    for _ in range(preheat):\n",
    "        func(*args)\n",
    "    return timeit.timeit(lambda: func(*args), number=number) / number\n",
    "\n",
    "# Ensure reproducibility\n",
    "np.random.seed(12345)\n",
    "\n",
    "# Define test sizes (lengths for the 1D FFT input)\n",
    "sizes = [10, 50, 100, 500, 1000, 2000, 5000, 10000, 20000, 50000, 100000, 200000, 500000]\n",
    "results_fft = {\"numpy\": [], \"MyPyEigen\": []}\n",
    "\n",
    "for size in sizes:\n",
    "    # Create a 1D array of the given size (dtype: float64)\n",
    "    x = np.random.rand(size).astype(np.float64)\n",
    "    \n",
    "    # Benchmark NumPy's FFT (using np.fft.fft)\n",
    "    t_numpy = benchmark_function(np.fft.fft, (x,), number=100)\n",
    "    results_fft[\"numpy\"].append((size, t_numpy))\n",
    "    \n",
    "    # Benchmark MyPyEigen's FFT (using pe.fft)\n",
    "    t_pe = benchmark_function(pe.fft, (x,), number=100)\n",
    "    results_fft[\"MyPyEigen\"].append((size, t_pe))\n",
    "\n",
    "print(\"FFT Benchmark:\")\n",
    "print(\"Size\\tNumPy (sec)\\tMyPyEigen (sec)\")\n",
    "for size, t in results_fft[\"numpy\"]:\n",
    "    t_pe = [item[1] for item in results_fft[\"MyPyEigen\"] if item[0] == size][0]\n",
    "    print(f\"{size}\\t{t:.9f}\\t{t_pe:.9f}\")\n"
   ]
  },
  {
   "attachments": {},
   "cell_type": "markdown",
   "metadata": {},
   "source": [
    "### FFT Benchmark\n",
    "| Size   | NumPy (sec)   | MyPyEigen (sec) | Speedup (MyPyEigen vs NumPy) |\n",
    "|--------|---------------|------------------|------------------------------|\n",
    "| 10     | 0.000004652   | 0.000001740      | **2.67x** (Faster)           |\n",
    "| 50     | 0.000004967   | 0.000002290      | **2.17x** (Faster)           |\n",
    "| 100    | 0.000005365   | 0.000002746      | **1.95x** (Faster)           |\n",
    "| 500    | 0.000008058   | 0.000006335      | **1.27x** (Faster)           |\n",
    "| 1000   | 0.000013530   | 0.000011260      | **1.20x** (Faster)           |\n",
    "| 2000   | 0.000020867   | 0.000020802      | **1.00x** (Similar)          |\n",
    "| 5000   | 0.000121157   | 0.000061976      | **1.95x** (Faster)           |\n",
    "| 10000  | 0.000189841   | 0.000113537      | **1.67x** (Faster)           |\n",
    "| 20000  | 0.000224010   | 0.000204683      | **1.09x** (Faster)           |\n",
    "| 50000  | 0.000598528   | 0.000564668      | **1.06x** (Faster)           |\n",
    "| 100000 | 0.001451865   | 0.001233335      | **1.18x** (Faster)           |\n",
    "| 200000 | 0.003095395   | 0.002721594      | **1.14x** (Faster)           |\n",
    "| 500000 | 0.007363444   | 0.007539679      | **0.98x** (Similar)          |"
   ]
  }
 ],
 "metadata": {
  "kernelspec": {
   "display_name": "venv",
   "language": "python",
   "name": "python3"
  },
  "language_info": {
   "codemirror_mode": {
    "name": "ipython",
    "version": 3
   },
   "file_extension": ".py",
   "mimetype": "text/x-python",
   "name": "python",
   "nbconvert_exporter": "python",
   "pygments_lexer": "ipython3",
   "version": "3.9.6"
  },
  "orig_nbformat": 4
 },
 "nbformat": 4,
 "nbformat_minor": 2
}
