{
 "cells": [
  {
   "attachments": {},
   "cell_type": "markdown",
   "metadata": {},
   "source": [
    "# Benchmarking the N-Dimensional function in Numpy v.s. MyPyEigen"
   ]
  },
  {
   "cell_type": "code",
   "execution_count": 2,
   "metadata": {},
   "outputs": [],
   "source": [
    "import MyPyEigen as pe\n",
    "import numpy as np\n",
    "import timeit, functools"
   ]
  },
  {
   "cell_type": "code",
   "execution_count": 3,
   "metadata": {},
   "outputs": [
    {
     "name": "stdout",
     "output_type": "stream",
     "text": [
      "ND Append Benchmark:\n",
      "Size\tNumPy (sec)\tMyPyEigen (sec)\n",
      "10\t0.000001104\t0.000003533\n",
      "50\t0.000002692\t0.000043721\n",
      "100\t0.000006500\t0.000170621\n",
      "500\t0.000466579\t0.005784825\n",
      "1000\t0.001955013\t0.026430875\n",
      "2000\t0.010206029\t0.128787558\n",
      "5000\t0.078665367\t1.262826333\n"
     ]
    }
   ],
   "source": [
    "\n",
    "\n",
    "def benchmark_function(func, args, number=10, preheat=5):\n",
    "    \"\"\"\n",
    "    Benchmark 'func' with arguments 'args'. Preheat the cache by calling the function\n",
    "    'preheat' times. Then, call 'func' 'number' times and return the average execution time in seconds.\n",
    "    \"\"\"\n",
    "    for _ in range(preheat):\n",
    "        func(*args)\n",
    "    return timeit.timeit(lambda: func(*args), number=number) / number\n",
    "\n",
    "# Ensure reproducibility\n",
    "np.random.seed(12345)\n",
    "\n",
    "# For ND append, we work with 3D arrays.\n",
    "# Let's use arrays of shape (2, size, size) so that \"append_nd\" will double the size along axis 0.\n",
    "sizes = [10, 50, 100, 500, 1000, 2000, 5000]\n",
    "results_append_nd = {\"numpy\": [], \"MyPyEigen\": []}\n",
    "\n",
    "for size in sizes:\n",
    "    # Create two 3D arrays with shape (2, size, size)\n",
    "    a = np.random.rand(2, size, size).astype(np.float64)\n",
    "    b = np.random.rand(2, size, size).astype(np.float64)\n",
    "    \n",
    "    # For NumPy: use np.concatenate along axis 0.\n",
    "    t_numpy = benchmark_function(lambda a, b: np.concatenate([a, b], axis=0), (a, b), number=10)\n",
    "    results_append_nd[\"numpy\"].append((size, t_numpy))\n",
    "    \n",
    "    # For MyPyEigen: call pe.append_nd (which is defined to take two 3D arrays and an axis)\n",
    "    t_pe = benchmark_function(pe.append_nd, (a, b, 0), number=10)\n",
    "    results_append_nd[\"MyPyEigen\"].append((size, t_pe))\n",
    "\n",
    "print(\"ND Append Benchmark:\")\n",
    "print(\"Size\\tNumPy (sec)\\tMyPyEigen (sec)\")\n",
    "for size, t in results_append_nd[\"numpy\"]:\n",
    "    t_pe = [x[1] for x in results_append_nd[\"MyPyEigen\"] if x[0] == size][0]\n",
    "    print(f\"{size}\\t{t:.9f}\\t{t_pe:.9f}\")\n"
   ]
  },
  {
   "cell_type": "code",
   "execution_count": 4,
   "metadata": {},
   "outputs": [
    {
     "name": "stdout",
     "output_type": "stream",
     "text": [
      "ND Concat Benchmark:\n",
      "Size\tNumPy (sec)\tMyPyEigen (sec)\n",
      "10\t0.000002304\t0.000005304\n",
      "50\t0.000004871\t0.000049537\n",
      "100\t0.000027554\t0.000218367\n",
      "500\t0.000776862\t0.007596646\n",
      "1000\t0.003280929\t0.040678767\n",
      "2000\t0.017584588\t0.174957229\n",
      "5000\t0.128864121\t1.578376554\n"
     ]
    }
   ],
   "source": [
    "def benchmark_function(func, args, number=10, preheat=5):\n",
    "    for _ in range(preheat):\n",
    "        func(*args)\n",
    "    return timeit.timeit(lambda: func(*args), number=number) / number\n",
    "\n",
    "np.random.seed(12345)\n",
    "\n",
    "# For ND concat, we work with 3D arrays of shape (2, size, size).\n",
    "# Here we test by concatenating three arrays along axis 0.\n",
    "sizes = [10, 50, 100, 500, 1000, 2000, 5000]\n",
    "results_concat_nd = {\"numpy\": [], \"MyPyEigen\": []}\n",
    "\n",
    "for size in sizes:\n",
    "    A = np.random.rand(2, size, size).astype(np.float64)\n",
    "    B = np.random.rand(2, size, size).astype(np.float64)\n",
    "    C = np.random.rand(2, size, size).astype(np.float64)\n",
    "    \n",
    "    # For NumPy: use np.concatenate on a list of arrays along axis 0.\n",
    "    t_numpy = benchmark_function(lambda lst: np.concatenate(lst, axis=0), ([A, B, C],), number=10)\n",
    "    results_concat_nd[\"numpy\"].append((size, t_numpy))\n",
    "    \n",
    "    # For MyPyEigen: call pe.concat_nd on the list of 3D arrays.\n",
    "    t_pe = benchmark_function(pe.concat_nd, ([A, B, C], 0), number=10)\n",
    "    results_concat_nd[\"MyPyEigen\"].append((size, t_pe))\n",
    "\n",
    "print(\"ND Concat Benchmark:\")\n",
    "print(\"Size\\tNumPy (sec)\\tMyPyEigen (sec)\")\n",
    "for size, t in results_concat_nd[\"numpy\"]:\n",
    "    t_pe = [x[1] for x in results_concat_nd[\"MyPyEigen\"] if x[0] == size][0]\n",
    "    print(f\"{size}\\t{t:.9f}\\t{t_pe:.9f}\")\n"
   ]
  },
  {
   "cell_type": "code",
   "execution_count": 5,
   "metadata": {},
   "outputs": [
    {
     "name": "stdout",
     "output_type": "stream",
     "text": [
      "ND Stack Benchmark:\n",
      "Size\tNumPy (sec)\tMyPyEigen (sec)\n",
      "10\t0.000003671\t0.000004167\n",
      "50\t0.000019675\t0.000045837\n",
      "100\t0.000007592\t0.000143042\n",
      "500\t0.000392487\t0.006530150\n",
      "1000\t0.001645538\t0.029034200\n",
      "2000\t0.010266975\t0.214569896\n",
      "5000\t0.054668883\t2.079535983\n"
     ]
    }
   ],
   "source": [
    "def benchmark_function(func, args, number=10, preheat=5):\n",
    "    for _ in range(preheat):\n",
    "        func(*args)\n",
    "    return timeit.timeit(lambda: func(*args), number=number) / number\n",
    "\n",
    "np.random.seed(12345)\n",
    "\n",
    "# For ND stack, the input is a list of 2D arrays. The expected output is a 3D array.\n",
    "sizes = [10, 50, 100, 500, 1000, 2000, 5000]\n",
    "results_stack_nd = {\"numpy\": [], \"MyPyEigen\": []}\n",
    "\n",
    "for size in sizes:\n",
    "    # Create three 2D arrays with shape (size, size)\n",
    "    A = np.random.rand(size, size).astype(np.float64)\n",
    "    B = np.random.rand(size, size).astype(np.float64)\n",
    "    C = np.random.rand(size, size).astype(np.float64)\n",
    "    \n",
    "    # For NumPy: use np.stack on the list along axis 0.\n",
    "    t_numpy = benchmark_function(lambda lst: np.stack(lst, axis=0), ([A, B, C],), number=10)\n",
    "    results_stack_nd[\"numpy\"].append((size, t_numpy))\n",
    "    \n",
    "    # For MyPyEigen: call pe.stack_nd, which takes a list of 2D arrays and returns a 3D array.\n",
    "    t_pe = benchmark_function(pe.stack_nd, ([A, B, C], 0), number=10)\n",
    "    results_stack_nd[\"MyPyEigen\"].append((size, t_pe))\n",
    "\n",
    "print(\"ND Stack Benchmark:\")\n",
    "print(\"Size\\tNumPy (sec)\\tMyPyEigen (sec)\")\n",
    "for size, t in results_stack_nd[\"numpy\"]:\n",
    "    t_pe = [x[1] for x in results_stack_nd[\"MyPyEigen\"] if x[0] == size][0]\n",
    "    print(f\"{size}\\t{t:.9f}\\t{t_pe:.9f}\")\n"
   ]
  },
  {
   "attachments": {},
   "cell_type": "markdown",
   "metadata": {},
   "source": [
    "## Result"
   ]
  },
  {
   "attachments": {},
   "cell_type": "markdown",
   "metadata": {},
   "source": [
    "### ND Append Benchmark\n",
    "| Size | NumPy (sec)  | MyPyEigen (sec) | Speedup (MyPyEigen/Numpy) |\n",
    "|------|--------------|------------------|---------------------------|\n",
    "| 10   | 0.000001104  | 0.000003533      | 3.20x (Slower)            |\n",
    "| 50   | 0.000002692  | 0.000043721      | 16.23x (Slower)           |\n",
    "| 100  | 0.000006500  | 0.000170621      | 26.25x (Slower)           |\n",
    "| 500  | 0.000466579  | 0.005784825      | 12.40x (Slower)           |\n",
    "| 1000 | 0.001955013  | 0.026430875      | 13.52x (Slower)           |\n",
    "| 2000 | 0.010206029  | 0.128787558      | 12.62x (Slower)           |\n",
    "| 5000 | 0.078665367  | 1.262826333      | 16.05x (Slower)           |\n",
    "\n",
    "### ND Concat Benchmark\n",
    "| Size | NumPy (sec)  | MyPyEigen (sec) | Speedup (MyPyEigen/Numpy) |\n",
    "|------|--------------|------------------|---------------------------|\n",
    "| 10   | 0.000002304  | 0.000005304      | 2.30x (Slower)            |\n",
    "| 50   | 0.000004871  | 0.000049537      | 10.17x (Slower)           |\n",
    "| 100  | 0.000027554  | 0.000218367      | 7.92x (Slower)            |\n",
    "| 500  | 0.000776862  | 0.007596646      | 9.78x (Slower)            |\n",
    "| 1000 | 0.003280929  | 0.040678767      | 12.40x (Slower)           |\n",
    "| 2000 | 0.017584588  | 0.174957229      | 9.95x (Slower)            |\n",
    "| 5000 | 0.128864121  | 1.578376554      | 12.25x (Slower)           |\n",
    "\n",
    "### ND Stack Benchmark\n",
    "| Size | NumPy (sec)  | MyPyEigen (sec) | Speedup (MyPyEigen/Numpy) |\n",
    "|------|--------------|------------------|---------------------------|\n",
    "| 10   | 0.000003671  | 0.000004167      | 1.14x (Slower)            |\n",
    "| 50   | 0.000019675  | 0.000045837      | 2.33x (Slower)            |\n",
    "| 100  | 0.000007592  | 0.000143042      | 18.84x (Slower)           |\n",
    "| 500  | 0.000392487  | 0.006530150      | 16.64x (Slower)           |\n",
    "| 1000 | 0.001645538  | 0.029034200      | 17.65x (Slower)           |\n",
    "| 2000 | 0.010266975  | 0.214569896      | 20.90x (Slower)           |\n",
    "| 5000 | 0.054668883  | 2.079535983      | 38.04x (Slower)           |"
   ]
  }
 ],
 "metadata": {
  "kernelspec": {
   "display_name": "venv",
   "language": "python",
   "name": "python3"
  },
  "language_info": {
   "codemirror_mode": {
    "name": "ipython",
    "version": 3
   },
   "file_extension": ".py",
   "mimetype": "text/x-python",
   "name": "python",
   "nbconvert_exporter": "python",
   "pygments_lexer": "ipython3",
   "version": "3.9.6"
  },
  "orig_nbformat": 4
 },
 "nbformat": 4,
 "nbformat_minor": 2
}
