{
 "cells": [
  {
   "attachments": {},
   "cell_type": "markdown",
   "metadata": {},
   "source": [
    "# MyPyEigen Comprehensive Tests\n",
    "\n",
    "在本Notebook中，我们将会测试：\n",
    "- `matmult`: 矩阵乘法\n",
    "- `append`: 在2D矩阵行/列方向拼接\n",
    "- `concat`: 一次性拼接多个2D矩阵\n",
    "- `inner`: 1D向量内积\n",
    "- `outer`: 1D向量外积\n",
    "- `rot90`: 矩阵旋转"
   ]
  },
  {
   "cell_type": "code",
   "execution_count": 11,
   "metadata": {},
   "outputs": [],
   "source": [
    "import MyPyEigen as pe\n",
    "import numpy as np"
   ]
  },
  {
   "attachments": {},
   "cell_type": "markdown",
   "metadata": {},
   "source": [
    "## 1. Test matmult"
   ]
  },
  {
   "cell_type": "code",
   "execution_count": 2,
   "metadata": {},
   "outputs": [
    {
     "name": "stdout",
     "output_type": "stream",
     "text": [
      "=== Test matmult ===\n",
      "A=\n",
      " [[1. 2.]\n",
      " [3. 4.]]\n",
      "B=\n",
      " [[5. 6.]\n",
      " [7. 8.]]\n",
      "C=matmult(A,B)=\n",
      " [[19. 22.]\n",
      " [43. 50.]]\n",
      "[OK] matmult normal case passed.\n",
      "[OK] Caught matmult dimension mismatch exception: matmult(): Dimension mismatch. A.cols() must match B.rows().\n"
     ]
    }
   ],
   "source": [
    "# 1) Test matmult\n",
    "print(\"=== Test matmult ===\")\n",
    "A = np.array([[1,2],[3,4]], dtype=float)\n",
    "B = np.array([[5,6],[7,8]], dtype=float)\n",
    "C = pe.matmult(A, B)\n",
    "expectedC = A @ B\n",
    "print(\"A=\\n\", A)\n",
    "print(\"B=\\n\", B)\n",
    "print(\"C=matmult(A,B)=\\n\", C)\n",
    "assert C.shape == (2,2)\n",
    "assert np.allclose(C, expectedC), \"matmult result mismatch\"\n",
    "print(\"[OK] matmult normal case passed.\")\n",
    "\n",
    "# Test matmult dimension mismatch\n",
    "A_mis = np.array([[1,2,3],[4,5,6]], dtype=float)  # shape(2,3)\n",
    "B_mis = np.array([[7,8],[9,10]], dtype=float)     # shape(2,2)\n",
    "try:\n",
    "    _ = pe.matmult(A_mis, B_mis)\n",
    "    raise AssertionError(\"Expected dimension mismatch for matmult, but no exception thrown!\")\n",
    "except ValueError as e:\n",
    "    print(\"[OK] Caught matmult dimension mismatch exception:\", e)"
   ]
  },
  {
   "attachments": {},
   "cell_type": "markdown",
   "metadata": {},
   "source": [
    "## 2. Test Append"
   ]
  },
  {
   "cell_type": "code",
   "execution_count": 3,
   "metadata": {},
   "outputs": [
    {
     "name": "stdout",
     "output_type": "stream",
     "text": [
      "\n",
      "=== Test append ===\n",
      "row-wise append(X,Y):\n",
      " [[1. 2.]\n",
      " [3. 4.]\n",
      " [5. 6.]\n",
      " [7. 8.]]\n",
      "col-wise append(X,Y):\n",
      " [[1. 2. 5. 6.]\n",
      " [3. 4. 7. 8.]]\n",
      "[OK] Caught append mismatch: append(): dimension mismatch for row-wise concatenation\n",
      "[OK] append tests passed.\n"
     ]
    }
   ],
   "source": [
    "# 2) Test append\n",
    "print(\"\\n=== Test append ===\")\n",
    "X = np.array([[1,2],[3,4]], dtype=float)\n",
    "Y = np.array([[5,6],[7,8]], dtype=float)\n",
    "\n",
    "# axis=0 => row-wise\n",
    "app0 = pe.append(X, Y, 0)\n",
    "expected0 = np.vstack([X,Y])\n",
    "print(\"row-wise append(X,Y):\\n\", app0)\n",
    "assert app0.shape == (4,2)\n",
    "assert np.allclose(app0, expected0)\n",
    "\n",
    "# axis=1 => col-wise\n",
    "app1 = pe.append(X, Y, 1)\n",
    "expected1 = np.hstack([X,Y])\n",
    "print(\"col-wise append(X,Y):\\n\", app1)\n",
    "assert app1.shape == (2,4)\n",
    "assert np.allclose(app1, expected1)\n",
    "\n",
    "# mismatch\n",
    "Z = np.array([[9,10,11],[12,13,14]], dtype=float)  # shape(2,3)\n",
    "try:\n",
    "    _ = pe.append(X, Z, 0)  # row-wise => need same cols, but 2 vs 3\n",
    "    raise AssertionError(\"Expected mismatch for append, but no exception thrown!\")\n",
    "except ValueError as e:\n",
    "    print(\"[OK] Caught append mismatch:\", e)\n",
    "print(\"[OK] append tests passed.\")\n",
    "\n"
   ]
  },
  {
   "attachments": {},
   "cell_type": "markdown",
   "metadata": {},
   "source": [
    "## 3. Test Concat"
   ]
  },
  {
   "cell_type": "code",
   "execution_count": 4,
   "metadata": {},
   "outputs": [
    {
     "name": "stdout",
     "output_type": "stream",
     "text": [
      "\n",
      "=== Test concat ===\n",
      "concat axis=0 =>\n",
      " [[ 1.  2.]\n",
      " [ 3.  4.]\n",
      " [ 5.  6.]\n",
      " [ 7.  8.]\n",
      " [ 9. 10.]\n",
      " [11. 12.]]\n",
      "concat axis=1 =>\n",
      " [[ 1.  2.  5.  6.  9. 10.]\n",
      " [ 3.  4.  7.  8. 11. 12.]]\n",
      "[OK] Caught concat mismatch: concat(): dimension mismatch on cols for row-wise concatenation\n",
      "[OK] concat tests passed.\n"
     ]
    }
   ],
   "source": [
    "# 3) Test concat\n",
    "print(\"\\n=== Test concat ===\")\n",
    "A2 = np.array([[1,2],[3,4]], dtype=float)\n",
    "B2 = np.array([[5,6],[7,8]], dtype=float)\n",
    "C2 = np.array([[9,10],[11,12]], dtype=float)\n",
    "\n",
    "# axis=0 => row-wise\n",
    "out0 = pe.concat([A2,B2,C2], 0)\n",
    "expected0 = np.vstack([A2,B2,C2])\n",
    "print(\"concat axis=0 =>\\n\", out0)\n",
    "assert np.allclose(out0, expected0)\n",
    "\n",
    "# axis=1 => col-wise\n",
    "out1 = pe.concat([A2,B2,C2], 1)\n",
    "expected1 = np.hstack([A2,B2,C2])\n",
    "print(\"concat axis=1 =>\\n\", out1)\n",
    "assert np.allclose(out1, expected1)\n",
    "\n",
    "# mismatch\n",
    "D2 = np.array([[13,14,15],[16,17,18]], dtype=float) # shape(2,3)\n",
    "try:\n",
    "    _ = pe.concat([A2,B2,D2], 0)  # row-wise => need same cols=2, but D2 has 3\n",
    "    raise AssertionError(\"Expected mismatch for concat, but no exception thrown!\")\n",
    "except ValueError as e:\n",
    "    print(\"[OK] Caught concat mismatch:\", e)\n",
    "print(\"[OK] concat tests passed.\")\n"
   ]
  },
  {
   "attachments": {},
   "cell_type": "markdown",
   "metadata": {},
   "source": [
    "## 4. Test Inner"
   ]
  },
  {
   "cell_type": "code",
   "execution_count": 5,
   "metadata": {},
   "outputs": [
    {
     "name": "stdout",
     "output_type": "stream",
     "text": [
      "\n",
      "=== Test inner ===\n",
      "v1 dot v2 = 32.0\n",
      "[OK] Caught inner mismatch: inner(): vectors must have the same size\n",
      "[OK] inner test passed.\n"
     ]
    }
   ],
   "source": [
    "# 4) Test inner (dot product)\n",
    "print(\"\\n=== Test inner ===\")\n",
    "v1 = np.array([1.0,2.0,3.0], dtype=float)\n",
    "v2 = np.array([4.0,5.0,6.0], dtype=float)\n",
    "res_inner = pe.inner(v1, v2)\n",
    "expected_inner = np.dot(v1, v2)\n",
    "print(\"v1 dot v2 =\", res_inner)\n",
    "assert abs(res_inner - expected_inner) < 1e-12\n",
    "\n",
    "# mismatch\n",
    "try:\n",
    "    pe.inner(v1, np.array([7.0,8.0]))\n",
    "    raise AssertionError(\"Expected mismatch for inner, but no exception thrown!\")\n",
    "except ValueError as e:\n",
    "    print(\"[OK] Caught inner mismatch:\", e)\n",
    "print(\"[OK] inner test passed.\")\n"
   ]
  },
  {
   "attachments": {},
   "cell_type": "markdown",
   "metadata": {},
   "source": [
    "## 5. Test Outer."
   ]
  },
  {
   "cell_type": "code",
   "execution_count": 6,
   "metadata": {},
   "outputs": [
    {
     "name": "stdout",
     "output_type": "stream",
     "text": [
      "\n",
      "=== Test outer ===\n",
      "outer:\n",
      " [[10. 20. 30.]\n",
      " [20. 40. 60.]]\n",
      "[OK] outer test passed.\n"
     ]
    }
   ],
   "source": [
    "# 5) Test outer\n",
    "print(\"\\n=== Test outer ===\")\n",
    "v3 = np.array([1.0, 2.0], dtype=float)\n",
    "v4 = np.array([10.0,20.0,30.0], dtype=float)\n",
    "res_outer = pe.outer(v3, v4)\n",
    "expected_outer = np.outer(v3, v4)\n",
    "print(\"outer:\\n\", res_outer)\n",
    "assert res_outer.shape == (2,3)\n",
    "assert np.allclose(res_outer, expected_outer)\n",
    "print(\"[OK] outer test passed.\")"
   ]
  },
  {
   "attachments": {},
   "cell_type": "markdown",
   "metadata": {},
   "source": [
    "## 6. Test Rot90"
   ]
  },
  {
   "cell_type": "code",
   "execution_count": 7,
   "metadata": {},
   "outputs": [
    {
     "name": "stdout",
     "output_type": "stream",
     "text": [
      "\n",
      "=== Test rot90 ===\n",
      "rot90(M,1)=\n",
      " [[4. 1.]\n",
      " [5. 2.]\n",
      " [6. 3.]]\n",
      "[OK] rot90 tests passed.\n",
      "\n",
      "=== All Tests Done ===\n",
      "If no error above, MyPyEigen is working correctly!\n"
     ]
    }
   ],
   "source": [
    "# 6) Test rot90\n",
    "print(\"\\n=== Test rot90 ===\")\n",
    "M = np.array([\n",
    "    [1,2,3],\n",
    "    [4,5,6]\n",
    "], dtype=float)\n",
    "# shape(2,3)\n",
    "r1 = pe.rot90(M, 1)\n",
    "expected_r1 = np.array([\n",
    "    [4,1],\n",
    "    [5,2],\n",
    "    [6,3]\n",
    "], dtype=float)\n",
    "print(\"rot90(M,1)=\\n\", r1)\n",
    "assert r1.shape == (3,2)\n",
    "assert np.allclose(r1, expected_r1)\n",
    "\n",
    "# k=2\n",
    "r2 = pe.rot90(M, 2)\n",
    "expected_r2 = np.array([\n",
    "    [6,5,4],\n",
    "    [3,2,1]\n",
    "], dtype=float)\n",
    "assert np.allclose(r2, expected_r2)\n",
    "\n",
    "# negative k => e.g. k=-1 => same as k=3\n",
    "r_neg = pe.rot90(M, -1)\n",
    "expected_r3 = np.array([\n",
    "    [3,6],\n",
    "    [2,5],\n",
    "    [1,4]\n",
    "], dtype=float)\n",
    "assert np.allclose(r_neg, expected_r3)\n",
    "print(\"[OK] rot90 tests passed.\")\n",
    "\n",
    "print(\"\\n=== All Tests Done ===\")\n",
    "print(\"If no error above, MyPyEigen is working correctly!\")\n"
   ]
  },
  {
   "attachments": {},
   "cell_type": "markdown",
   "metadata": {},
   "source": [
    "## Benchmarking the runtime"
   ]
  },
  {
   "attachments": {},
   "cell_type": "markdown",
   "metadata": {},
   "source": [
    "我们来比较一下我自己写的MyPyEigen和numpy哪一个更快一些，嘿嘿"
   ]
  },
  {
   "cell_type": "code",
   "execution_count": 8,
   "metadata": {},
   "outputs": [
    {
     "name": "stdout",
     "output_type": "stream",
     "text": [
      "fast_function 平均运行时间 (timeit): 0.000000479 秒\n"
     ]
    },
    {
     "data": {
      "text/plain": [
       "45"
      ]
     },
     "execution_count": 8,
     "metadata": {},
     "output_type": "execute_result"
    }
   ],
   "source": [
    "import timeit\n",
    "import functools\n",
    "\n",
    "def timeit_decorator(n=1000):\n",
    "    \"\"\" 使用 timeit 运行 n 次，计算平均运行时间 \"\"\"\n",
    "    def decorator(func):\n",
    "        @functools.wraps(func)\n",
    "        def wrapper(*args, **kwargs):\n",
    "            execution_time = timeit.timeit(lambda: func(*args, **kwargs), number=n) / n\n",
    "            print(f\"{func.__name__} 平均运行时间 (timeit): {execution_time:.9f} 秒\")\n",
    "            return func(*args, **kwargs)\n",
    "        return wrapper\n",
    "    return decorator\n",
    "\n",
    "@timeit_decorator(n=10000)\n",
    "def fast_function():\n",
    "    return sum(range(10))\n",
    "\n",
    "fast_function()\n"
   ]
  },
  {
   "cell_type": "code",
   "execution_count": 13,
   "metadata": {},
   "outputs": [
    {
     "name": "stdout",
     "output_type": "stream",
     "text": [
      "pe_rot90 平均运行时间 (timeit): 0.008489861 秒\n",
      "np_rot90 平均运行时间 (timeit): 0.003828284 秒\n"
     ]
    }
   ],
   "source": [
    "def timeit_decorator(n=10000):\n",
    "    \"\"\" 使用 timeit 运行 n 次，计算平均运行时间 \"\"\"\n",
    "    def decorator(func):\n",
    "        @functools.wraps(func)\n",
    "        def wrapper(*args, **kwargs):\n",
    "            execution_time = timeit.timeit(lambda: func(*args, **kwargs), number=n) / n\n",
    "            print(f\"{func.__name__} 平均运行时间 (timeit): {execution_time:.9f} 秒\")\n",
    "            return func(*args, **kwargs)\n",
    "        return wrapper\n",
    "    return decorator\n",
    "\n",
    "# 创建测试函数\n",
    "@timeit_decorator(n=10000)\n",
    "def pe_rot90():\n",
    "    M = np.random.rand(1000, 1000)  # 生成随机 100x100 矩阵\n",
    "    pe.rot90(M, 1)  # 旋转 90°\n",
    "\n",
    "@timeit_decorator(n=10000)\n",
    "def np_rot90():\n",
    "    M = np.random.rand(1000, 1000)  # 生成随机 100x100 矩阵\n",
    "    np.rot90(M, 1)  # 旋转 90°\n",
    "\n",
    "# 运行测试\n",
    "pe_rot90()\n",
    "np_rot90()"
   ]
  },
  {
   "cell_type": "code",
   "execution_count": null,
   "metadata": {},
   "outputs": [],
   "source": [
    "@timeit_decorator(n=10000)\n",
    "def test_rotation():\n",
    "    M = np.random.rand(100, 100)  # 生成随机 100x100 矩阵\n",
    "    pe.rot90(M, 1)  # 旋转 90°\n",
    "\n",
    "# 运行测试\n",
    "test_rotation()"
   ]
  }
 ],
 "metadata": {
  "kernelspec": {
   "display_name": "venv",
   "language": "python",
   "name": "python3"
  },
  "language_info": {
   "codemirror_mode": {
    "name": "ipython",
    "version": 3
   },
   "file_extension": ".py",
   "mimetype": "text/x-python",
   "name": "python",
   "nbconvert_exporter": "python",
   "pygments_lexer": "ipython3",
   "version": "3.9.6"
  },
  "orig_nbformat": 4
 },
 "nbformat": 4,
 "nbformat_minor": 2
}
